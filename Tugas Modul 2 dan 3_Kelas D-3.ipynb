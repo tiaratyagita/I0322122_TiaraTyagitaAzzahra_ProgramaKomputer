{
 "cells": [
  {
   "cell_type": "code",
   "execution_count": null,
   "metadata": {},
   "outputs": [],
   "source": [
    "print(input(\"Nama: \"))\n",
    "print(input(\"NIM: \"))\n",
    "print(input(\"Kelas: \"))"
   ]
  },
  {
   "attachments": {},
   "cell_type": "markdown",
   "metadata": {},
   "source": [
    "## 1."
   ]
  },
  {
   "attachments": {},
   "cell_type": "markdown",
   "metadata": {},
   "source": [
    "diketahui dimensi sebuah aquarium tanpa penutup atas sebagai berikut:\n",
    "\n",
    "```python\n",
    "p = 11\n",
    "l = 1.99\n",
    "t = 25.87\n",
    "```\n",
    "buatkan program sederhana untuk menghitung diagonal tiap sisi dan luas permukaan aquarium tersebut tanpa menggunakan module math."
   ]
  },
  {
   "cell_type": "code",
   "execution_count": 12,
   "metadata": {},
   "outputs": [
    {
     "name": "stdout",
     "output_type": "stream",
     "text": [
      "11 1.99 25.87\n",
      "11.179\n",
      "25.946\n",
      "28.112\n",
      "Volume 566.294\n",
      "Luas permukaan 693.993\n"
     ]
    }
   ],
   "source": [
    "p = 11\n",
    "l = 1.99\n",
    "t = 25.87\n",
    "# p,l,t = t,p,l\n",
    "print(p,l,t)\n",
    "\n",
    "dia1 = (p**2 + l**2) ** .5\n",
    "dia2 = (l**2 + t**2) ** .5\n",
    "dia3 = (p**2 + t**2) ** .5\n",
    "print(f\"{dia1:.3f}\")\n",
    "print(f\"{dia2:.3f}\")\n",
    "print(f\"{dia3:.3f}\")\n",
    "\n",
    "vol = p*l*t\n",
    "print(f\"Volume {vol:.3f}\")\n",
    "lp = p*l + 2 * (l*t + p*t)\n",
    "print(f\"Luas permukaan {lp:.3f}\")"
   ]
  },
  {
   "attachments": {},
   "cell_type": "markdown",
   "metadata": {},
   "source": [
    "## 2."
   ]
  },
  {
   "attachments": {},
   "cell_type": "markdown",
   "metadata": {},
   "source": [
    "diberikan data nilai mahasiswa sebagai berikut:"
   ]
  },
  {
   "cell_type": "code",
   "execution_count": 2,
   "metadata": {},
   "outputs": [],
   "source": [
    "nilai = {\n",
    "    'Frank': 80,\n",
    "    'Abagnale': 75,\n",
    "    'Cobb': 90,\n",
    "    'Andy Dufresne': 85,\n",
    "    'Ariadne': 70\n",
    "}"
   ]
  },
  {
   "attachments": {},
   "cell_type": "markdown",
   "metadata": {},
   "source": [
    "buatlah program sederhana untuk menghitung nilai rata-rata semua mahasiswa dan mencari siapa yang mendapatkan nilai tertinggi dan nilai terendah. \n",
    "> *note: tidak perlu menggunakan loops untuk membuat program nya*"
   ]
  },
  {
   "cell_type": "code",
   "execution_count": 3,
   "metadata": {},
   "outputs": [
    {
     "name": "stdout",
     "output_type": "stream",
     "text": [
      "80.0\n",
      "nilai maks 90\n",
      "min nilai 70\n"
     ]
    }
   ],
   "source": [
    "sum = nilai[\"Frank\"] + nilai[\"Abagnale\"] + nilai[\"Cobb\"] +\\\n",
    "      nilai[\"Andy Dufresne\"] + nilai[\"Ariadne\"]\n",
    "print('nilai[\"Frank\"] + nilai[\"Abagnale\"] + nilai[\"Cobb\"] +\\\n",
    "      nilai[\"Andy Dufresne\"] + nilai[\"Ariadne\"]')\n",
    "mean = sum / len(nilai)\n",
    "print(mean)\n",
    "\n",
    "maxnilai = max(nilai[\"Frank\"] ,nilai[\"Abagnale\"] , nilai[\"Cobb\"] ,\n",
    "      nilai[\"Andy Dufresne\"] , nilai[\"Ariadne\"])\n",
    "minnilai = min(nilai[\"Frank\"] , nilai[\"Abagnale\"] , nilai[\"Cobb\"] ,\n",
    "      nilai[\"Andy Dufresne\"] , nilai[\"Ariadne\"])\n",
    "\n",
    "print(f\"\"\"nilai maks {maxnilai}\n",
    "min nilai {minnilai}\"\"\")"
   ]
  },
  {
   "attachments": {},
   "cell_type": "markdown",
   "metadata": {},
   "source": [
    "## 3. "
   ]
  },
  {
   "attachments": {},
   "cell_type": "markdown",
   "metadata": {},
   "source": [
    "diberikan list aslab sebagai berikut:\n",
    "```python\n",
    "list_aslab = [\n",
    "    {\"nama\": \"Berlian Safri Prakoso\", \"nim\": \"I0320017\", \"kontak\": \"0858XXXXXXXX\"},\n",
    "    {\"nama\": \"Halidya Siti Hanifah\", \"nim\": \"I0320044\", \"kontak\": \"0878XXXXXXXX\"},\n",
    "    {\"nama\": \"Nurki Putra Mahardika\", \"nim\": \"I0320076\", \"kontak\": \"0877XXXXXXXX\"},\n",
    "    {\"nama\": \"Aji Manarul Aziz\", \"nim\": \"I0320119\", \"kontak\": \"0812XXXXXXXX\"},\n",
    "    {\"nama\": \"Alica Ayu Fitriani\", \"nim\": \"I0320121\", \"kontak\": \"0896XXXXXXXX\"},\n",
    "    {\"nama\": \"Dendy Halim Kusuma\", \"nim\": \"I0320125\", \"kontak\": \"0822XXXXXXXX\"}\n",
    "]\n",
    "```\n",
    "* **A** Tuliskan kode untuk mengakses informasi tentang \"nama\" dari semua aslab mulai dari index 1 sampai 5\n",
    "* **B** Tambahkan informasi berikut pada data aslab:\n",
    "```python\n",
    "    surel = [\"berlian@student.uns.ac.id\",\n",
    "          \"halidya@student.uns.ac.id\",\n",
    "          \"nurki@student.uns.ac.id\",\n",
    "          \"manarul@student.uns.ac.id\",\n",
    "          \"alica@student.uns.ac.id\",\n",
    "          \"dendy@student.uns.ac.id\"]\n",
    "```\n",
    "> *note: kalian hanya boleh menggunakan key-value pair yang disebutkan di dalam teks, tanpa menggunakan informasi tambahan yang diambil pada list yang ada*"
   ]
  },
  {
   "cell_type": "code",
   "execution_count": 5,
   "metadata": {},
   "outputs": [
    {
     "name": "stdout",
     "output_type": "stream",
     "text": [
      "\n",
      "{'nama': 'Berlian Safri Prakoso', 'nim': 'I0320017', 'kontak': '0858XXXXXXXX', 'surel': 'berlian@student.uns.ac.id'}\n",
      "{'nama': 'Halidya Siti Hanifah', 'nim': 'I0320044', 'kontak': '0878XXXXXXXX', 'surel': 'halidya@student.uns.ac.id'}\n",
      "{'nama': 'Nurki Putra Mahardika', 'nim': 'I0320076', 'kontak': '0877XXXXXXXX', 'surel': 'nurki@student.uns.ac.id'}\n",
      "{'nama': 'Aji Manarul Aziz', 'nim': 'I0320119', 'kontak': '0812XXXXXXXX', 'surel': 'manarul@student.uns.ac.id'}\n",
      "{'nama': 'Alica Ayu Fitriani', 'nim': 'I0320121', 'kontak': '0896XXXXXXXX', 'surel': 'alica@student.uns.ac.id'}\n",
      "{'nama': 'Dendy Halim Kusuma', 'nim': 'I0320125', 'kontak': '0822XXXXXXXX', 'surel': 'dendy@student.uns.ac.id'}\n"
     ]
    }
   ],
   "source": [
    "#A. program kode untuk mengakses informasi tentang nama aslab mulai dari index 1 s/d 5 \n",
    "#yang tertera pada list diatas\n",
    "\n",
    "#input data\n",
    "list_aslab = [ \n",
    "    {\"nama\": \"Berlian Safri Prakoso\", \"nim\": \"I0320017\", \"kontak\": \"0858XXXXXXXX\"},\n",
    "    {\"nama\": \"Halidya Siti Hanifah\", \"nim\": \"I0320044\", \"kontak\": \"0878XXXXXXXX\"},\n",
    "    {\"nama\": \"Nurki Putra Mahardika\", \"nim\": \"I0320076\", \"kontak\": \"0877XXXXXXXX\"},\n",
    "    {\"nama\": \"Aji Manarul Aziz\", \"nim\": \"I0320119\", \"kontak\": \"0812XXXXXXXX\"},\n",
    "    {\"nama\": \"Alica Ayu Fitriani\", \"nim\": \"I0320121\", \"kontak\": \"0896XXXXXXXX\"},\n",
    "    {\"nama\": \"Dendy Halim Kusuma\", \"nim\": \"I0320125\", \"kontak\": \"0822XXXXXXXX\"} ]\n",
    "\n",
    "surel = [\"berlian@student.uns.ac.id\",\n",
    "          \"halidya@student.uns.ac.id\",\n",
    "          \"nurki@student.uns.ac.id\",\n",
    "          \"manarul@student.uns.ac.id\",\n",
    "          \"alica@student.uns.ac.id\",\n",
    "          \"dendy@student.uns.ac.id\"]\n",
    " \n",
    "\n",
    "for i in range (len(list_aslab)) :\n",
    "   list_aslab[i]['surel']= surel[i]\n",
    "print()\n",
    "\n",
    "for i in range (len(list_aslab)):\n",
    "    list_aslab[i]['surel']=surel [i]\n",
    "\n",
    "for list_aslab2 in list_aslab:\n",
    "    print (list_aslab2)\n",
    "\n"
   ]
  }
 ],
 "metadata": {
  "kernelspec": {
   "display_name": "Python 3.11.2 64-bit",
   "language": "python",
   "name": "python3"
  },
  "language_info": {
   "codemirror_mode": {
    "name": "ipython",
    "version": 3
   },
   "file_extension": ".py",
   "mimetype": "text/x-python",
   "name": "python",
   "nbconvert_exporter": "python",
   "pygments_lexer": "ipython3",
   "version": "3.11.2"
  },
  "orig_nbformat": 4,
  "vscode": {
   "interpreter": {
    "hash": "aee8b7b246df8f9039afb4144a1f6fd8d2ca17a180786b69acc140d282b71a49"
   }
  }
 },
 "nbformat": 4,
 "nbformat_minor": 2
}
