{
 "cells": [
  {
   "cell_type": "code",
   "execution_count": null,
   "metadata": {},
   "outputs": [],
   "source": [
    "print(input(\"Tiara Tyagita: \"))\n",
    "print(input(\"I0322122: \"))\n",
    "print(input(\"D: \"))"
   ]
  },
  {
   "attachments": {},
   "cell_type": "markdown",
   "metadata": {},
   "source": [
    "## 1."
   ]
  },
  {
   "attachments": {},
   "cell_type": "markdown",
   "metadata": {},
   "source": [
    "Buatlah program yang menampilkan salam “Selamat Pagi” dari berbagai negara {Inggris, Perancis, Italia, Spanyol, Jepang, Korea} dengan dua input dari user yaitu bahasa dan diikuti nama user.<br>\n",
    "<br>Ex : \n",
    "<br>\"Ohayou, Onii Chan\"\n",
    "> *note: Kerjakan soal ini dengan percabangan*"
   ]
  },
  {
   "cell_type": "code",
   "execution_count": 12,
   "metadata": {},
   "outputs": [
    {
     "name": "stdout",
     "output_type": "stream",
     "text": [
      "\n",
      "===================\n",
      "berikut adalah hasil saya mengenai nomor 1\n"
     ]
    },
    {
     "ename": "NameError",
     "evalue": "name 'namser' is not defined",
     "output_type": "error",
     "traceback": [
      "\u001b[0;31m---------------------------------------------------------------------------\u001b[0m",
      "\u001b[0;31mNameError\u001b[0m                                 Traceback (most recent call last)",
      "Cell \u001b[0;32mIn[12], line 14\u001b[0m\n\u001b[1;32m     12\u001b[0m \u001b[39mprint\u001b[39m(\u001b[39m\"\u001b[39m\u001b[39mberikut adalah hasil saya mengenai nomor 1\u001b[39m\u001b[39m\"\u001b[39m)\n\u001b[1;32m     13\u001b[0m \u001b[39mif\u001b[39;00m bahser \u001b[39min\u001b[39;00m salam :\n\u001b[0;32m---> 14\u001b[0m     \u001b[39mprint\u001b[39m(\u001b[39mf\u001b[39m\u001b[39m\"\u001b[39m\u001b[39m{\u001b[39;00msalam[bahser]\u001b[39m}\u001b[39;00m\u001b[39m, \u001b[39m\u001b[39m{\u001b[39;00mnamser\u001b[39m}\u001b[39;00m\u001b[39m\"\u001b[39m )\n\u001b[1;32m     15\u001b[0m     \u001b[39mprint\u001b[39m (\u001b[39mf\u001b[39m\u001b[39m\"\u001b[39m\u001b[39mjadi apakah anda berasal dari \u001b[39m\u001b[39m{\u001b[39;00mbahser\u001b[39m}\u001b[39;00m\u001b[39m ?\u001b[39m\u001b[39m\"\u001b[39m)\n\u001b[1;32m     16\u001b[0m     \u001b[39mprint\u001b[39m (\u001b[39m\"\u001b[39m\u001b[39mwah daebakk\u001b[39m\u001b[39m\"\u001b[39m)\n",
      "\u001b[0;31mNameError\u001b[0m: name 'namser' is not defined"
     ]
    }
   ],
   "source": [
    "# Kerjakan soal nomor 1 disini'\n",
    "\n",
    "#input\n",
    "namsher =  (input(\"Aragita: \"))\n",
    "bahser = (input(\"pilih bahasa sesuai yang ada di list yang tertera : \"))\n",
    "\n",
    "salam = {\"inggris\" : \"good morning\", \"prancis\" : \"bonjour\", \"italia\" : \"buongirno\", \"spanyol\" : \"buen dia\", \"jepang\" : \"ohayou\", \"korea\" : \"annyeong\"}\n",
    "\n",
    "#output\n",
    "print()\n",
    "print(\"===================\")\n",
    "print(\"berikut adalah hasil saya mengenai nomor 1\")\n",
    "if bahser in salam :\n",
    "    print(f\"{salam[bahser]}, {namser}\" )\n",
    "    print (f\"jadi apakah anda berasal dari {bahser} ?\")\n",
    "    print (\"wah daebakk\")\n",
    "else:\n",
    "    print(\"bahasa yang anda pilih tidak ada di list\")\n",
    "print(\"===================\")\n",
    "print()\n",
    "print(\"arigatou\")\n"
   ]
  },
  {
   "attachments": {},
   "cell_type": "markdown",
   "metadata": {},
   "source": [
    "Buatlah program perhitungan umur dengan menggunakan input user yaitu tahun lahir dari user.<br>\n",
    "<br>Output yang dihasilkan adalah sebagai berikut:\n",
    "<br>\"Apakah anda berasal dari masa depan?\"\n",
    "<br>\"Anda barusaja lahir\"\n",
    "<br>\"Umur Anda adalah xx tahun\"\n",
    "> *note: Kerjakan soal ini dengan percabangan*"
   ]
  },
  {
   "cell_type": "code",
   "execution_count": 8,
   "metadata": {},
   "outputs": [
    {
     "name": "stdout",
     "output_type": "stream",
     "text": [
      "\n",
      "====================\n",
      "berikut jawaban saya no 2\n",
      "apakah anda berasal dari masa depan?\n",
      "====================\n",
      "\n",
      "thankyou\n"
     ]
    }
   ],
   "source": [
    "# Kerjakan soal nomor 2 disini\n",
    "\n",
    "#input\n",
    "list : {\"apakah anda berasal dari masa depan?\",\n",
    "\"anda baru saja lahir\",\n",
    "\"umur anda adalah xx tahun\"}\n",
    "\n",
    "tahuse =int(input(\"mohon untuk mengisikan tggl lahir anda\"))\n",
    "\n",
    "#output\n",
    "print()\n",
    "print(\"====================\")\n",
    "print(\"berikut jawaban saya no 2\")\n",
    "if tahuse > 2023:\n",
    "    print(\"apakah anda berasal dari masa depan?\")\n",
    "elif tahuse == 2023:\n",
    "    print(\"anda baru saja lahir\")\n",
    "elif tahuse < 2023:\n",
    "    print (\"umur anda adalah\", 2023-tahuse, \"tahun\")\n",
    "print(\"====================\")\n",
    "print()\n",
    "print(\"thankyou\")"
   ]
  }
 ],
 "metadata": {
  "kernelspec": {
   "display_name": "Python 3.11.2 64-bit",
   "language": "python",
   "name": "python3"
  },
  "language_info": {
   "codemirror_mode": {
    "name": "ipython",
    "version": 3
   },
   "file_extension": ".py",
   "mimetype": "text/x-python",
   "name": "python",
   "nbconvert_exporter": "python",
   "pygments_lexer": "ipython3",
   "version": "3.11.2"
  },
  "orig_nbformat": 4,
  "vscode": {
   "interpreter": {
    "hash": "aee8b7b246df8f9039afb4144a1f6fd8d2ca17a180786b69acc140d282b71a49"
   }
  }
 },
 "nbformat": 4,
 "nbformat_minor": 2
}
